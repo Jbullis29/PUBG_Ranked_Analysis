{
 "cells": [
  {
   "cell_type": "code",
   "execution_count": 53,
   "id": "f474fe58",
   "metadata": {},
   "outputs": [],
   "source": [
    "import pandas as pd\n",
    "import numpy as np\n",
    "import matplotlib.pyplot as plt"
   ]
  },
  {
   "cell_type": "code",
   "execution_count": 54,
   "id": "e326de51",
   "metadata": {},
   "outputs": [],
   "source": [
    "#Read in csv\n",
    "matches = pd.read_csv('../data/model_samps.csv')"
   ]
  },
  {
   "cell_type": "code",
   "execution_count": 55,
   "id": "4159d703",
   "metadata": {},
   "outputs": [
    {
     "data": {
      "text/plain": [
       "Unnamed: 0                 int64\n",
       "match_id                  object\n",
       "game_duration              int64\n",
       "game_mode                 object\n",
       "map                       object\n",
       "match_type                object\n",
       "stats.DBNOs              float64\n",
       "stats.assists            float64\n",
       "stats.boosts             float64\n",
       "stats.damageDealt        float64\n",
       "stats.deathType           object\n",
       "stats.headshotKills      float64\n",
       "stats.heals              float64\n",
       "stats.killPlace          float64\n",
       "stats.killStreaks        float64\n",
       "stats.kills              float64\n",
       "stats.longestKill        float64\n",
       "stats.name                object\n",
       "stats.playerId            object\n",
       "stats.revives            float64\n",
       "stats.rideDistance       float64\n",
       "stats.roadKills          float64\n",
       "stats.swimDistance       float64\n",
       "stats.teamKills          float64\n",
       "stats.timeSurvived       float64\n",
       "stats.vehicleDestroys    float64\n",
       "stats.walkDistance       float64\n",
       "stats.weaponsAcquired    float64\n",
       "stats.winPlace           float64\n",
       "stats.rank               float64\n",
       "dtype: object"
      ]
     },
     "execution_count": 55,
     "metadata": {},
     "output_type": "execute_result"
    }
   ],
   "source": [
    "matches.dtypes"
   ]
  },
  {
   "cell_type": "code",
   "execution_count": 56,
   "id": "4a94e3cb",
   "metadata": {},
   "outputs": [],
   "source": [
    "matches.dropna(subset = [\"stats.kills\"], inplace=True)"
   ]
  },
  {
   "cell_type": "code",
   "execution_count": 57,
   "id": "9858f3c9",
   "metadata": {},
   "outputs": [],
   "source": [
    "matches.dropna(subset = [\"stats.headshotKills\"], inplace=True)"
   ]
  },
  {
   "cell_type": "code",
   "execution_count": 61,
   "id": "1faaf1b0",
   "metadata": {},
   "outputs": [],
   "source": [
    "oneKill = matches.loc[matches[\"stats.kills\"] > 0]"
   ]
  },
  {
   "cell_type": "code",
   "execution_count": 62,
   "id": "5278c2e6",
   "metadata": {},
   "outputs": [
    {
     "name": "stderr",
     "output_type": "stream",
     "text": [
      "C:\\Users\\10pai\\anaconda3\\envs\\PythonAdv\\lib\\site-packages\\ipykernel_launcher.py:1: SettingWithCopyWarning: \n",
      "A value is trying to be set on a copy of a slice from a DataFrame.\n",
      "Try using .loc[row_indexer,col_indexer] = value instead\n",
      "\n",
      "See the caveats in the documentation: https://pandas.pydata.org/pandas-docs/stable/user_guide/indexing.html#returning-a-view-versus-a-copy\n",
      "  \"\"\"Entry point for launching an IPython kernel.\n",
      "C:\\Users\\10pai\\anaconda3\\envs\\PythonAdv\\lib\\site-packages\\ipykernel_launcher.py:2: SettingWithCopyWarning: \n",
      "A value is trying to be set on a copy of a slice from a DataFrame\n",
      "\n",
      "See the caveats in the documentation: https://pandas.pydata.org/pandas-docs/stable/user_guide/indexing.html#returning-a-view-versus-a-copy\n",
      "  \n"
     ]
    }
   ],
   "source": [
    "oneKill['headshot_rate'] = oneKill[\"stats.headshotKills\"] / oneKill[\"stats.kills\"]\n",
    "oneKill.dropna(subset = [\"headshot_rate\"], inplace=True)"
   ]
  },
  {
   "cell_type": "code",
   "execution_count": 63,
   "id": "4fc38c83",
   "metadata": {},
   "outputs": [
    {
     "name": "stderr",
     "output_type": "stream",
     "text": [
      "C:\\Users\\10pai\\anaconda3\\envs\\PythonAdv\\lib\\site-packages\\ipykernel_launcher.py:1: SettingWithCopyWarning: \n",
      "A value is trying to be set on a copy of a slice from a DataFrame.\n",
      "Try using .loc[row_indexer,col_indexer] = value instead\n",
      "\n",
      "See the caveats in the documentation: https://pandas.pydata.org/pandas-docs/stable/user_guide/indexing.html#returning-a-view-versus-a-copy\n",
      "  \"\"\"Entry point for launching an IPython kernel.\n",
      "C:\\Users\\10pai\\anaconda3\\envs\\PythonAdv\\lib\\site-packages\\ipykernel_launcher.py:2: SettingWithCopyWarning: \n",
      "A value is trying to be set on a copy of a slice from a DataFrame\n",
      "\n",
      "See the caveats in the documentation: https://pandas.pydata.org/pandas-docs/stable/user_guide/indexing.html#returning-a-view-versus-a-copy\n",
      "  \n"
     ]
    }
   ],
   "source": [
    "oneKill['minute_per_kill'] = oneKill[\"game_duration\"] / oneKill[\"stats.kills\"]\n",
    "oneKill.dropna(subset = [\"minute_per_kill\"], inplace=True)"
   ]
  },
  {
   "cell_type": "code",
   "execution_count": 64,
   "id": "f2a2da35",
   "metadata": {},
   "outputs": [
    {
     "data": {
      "text/plain": [
       "1        1631.000000\n",
       "2         543.666667\n",
       "4        1631.000000\n",
       "5         407.750000\n",
       "7         815.500000\n",
       "            ...     \n",
       "30469    1194.500000\n",
       "30479    2389.000000\n",
       "30481     597.250000\n",
       "30493     170.642857\n",
       "30497    2389.000000\n",
       "Name: minute_per_kill, Length: 8848, dtype: float64"
      ]
     },
     "execution_count": 64,
     "metadata": {},
     "output_type": "execute_result"
    }
   ],
   "source": [
    "oneKill['minute_per_kill']"
   ]
  },
  {
   "cell_type": "code",
   "execution_count": 81,
   "id": "3102782b",
   "metadata": {},
   "outputs": [
    {
     "data": {
      "text/html": [
       "<div>\n",
       "<style scoped>\n",
       "    .dataframe tbody tr th:only-of-type {\n",
       "        vertical-align: middle;\n",
       "    }\n",
       "\n",
       "    .dataframe tbody tr th {\n",
       "        vertical-align: top;\n",
       "    }\n",
       "\n",
       "    .dataframe thead th {\n",
       "        text-align: right;\n",
       "    }\n",
       "</style>\n",
       "<table border=\"1\" class=\"dataframe\">\n",
       "  <thead>\n",
       "    <tr style=\"text-align: right;\">\n",
       "      <th></th>\n",
       "      <th>topTen</th>\n",
       "      <th>stats.killPlace</th>\n",
       "    </tr>\n",
       "  </thead>\n",
       "  <tbody>\n",
       "    <tr>\n",
       "      <th>1</th>\n",
       "      <td>Loser</td>\n",
       "      <td>27.0</td>\n",
       "    </tr>\n",
       "    <tr>\n",
       "      <th>2</th>\n",
       "      <td>TopTen</td>\n",
       "      <td>7.0</td>\n",
       "    </tr>\n",
       "    <tr>\n",
       "      <th>4</th>\n",
       "      <td>Loser</td>\n",
       "      <td>34.0</td>\n",
       "    </tr>\n",
       "    <tr>\n",
       "      <th>5</th>\n",
       "      <td>TopTen</td>\n",
       "      <td>4.0</td>\n",
       "    </tr>\n",
       "    <tr>\n",
       "      <th>7</th>\n",
       "      <td>Loser</td>\n",
       "      <td>21.0</td>\n",
       "    </tr>\n",
       "    <tr>\n",
       "      <th>...</th>\n",
       "      <td>...</td>\n",
       "      <td>...</td>\n",
       "    </tr>\n",
       "    <tr>\n",
       "      <th>30467</th>\n",
       "      <td>Loser</td>\n",
       "      <td>43.0</td>\n",
       "    </tr>\n",
       "    <tr>\n",
       "      <th>30469</th>\n",
       "      <td>Loser</td>\n",
       "      <td>12.0</td>\n",
       "    </tr>\n",
       "    <tr>\n",
       "      <th>30479</th>\n",
       "      <td>Loser</td>\n",
       "      <td>21.0</td>\n",
       "    </tr>\n",
       "    <tr>\n",
       "      <th>30481</th>\n",
       "      <td>TopTen</td>\n",
       "      <td>3.0</td>\n",
       "    </tr>\n",
       "    <tr>\n",
       "      <th>30497</th>\n",
       "      <td>Loser</td>\n",
       "      <td>25.0</td>\n",
       "    </tr>\n",
       "  </tbody>\n",
       "</table>\n",
       "<p>8739 rows × 2 columns</p>\n",
       "</div>"
      ],
      "text/plain": [
       "       topTen  stats.killPlace\n",
       "1       Loser             27.0\n",
       "2      TopTen              7.0\n",
       "4       Loser             34.0\n",
       "5      TopTen              4.0\n",
       "7       Loser             21.0\n",
       "...       ...              ...\n",
       "30467   Loser             43.0\n",
       "30469   Loser             12.0\n",
       "30479   Loser             21.0\n",
       "30481  TopTen              3.0\n",
       "30497   Loser             25.0\n",
       "\n",
       "[8739 rows x 2 columns]"
      ]
     },
     "execution_count": 81,
     "metadata": {},
     "output_type": "execute_result"
    }
   ],
   "source": [
    "oneKill['topTen'] = np.where(oneKill['stats.killPlace'] < 11, \"TopTen\", \"Loser\")\n",
    "oneKill[['topTen','stats.killPlace']]"
   ]
  },
  {
   "cell_type": "code",
   "execution_count": 83,
   "id": "ef777780",
   "metadata": {},
   "outputs": [
    {
     "data": {
      "text/html": [
       "<div>\n",
       "<style scoped>\n",
       "    .dataframe tbody tr th:only-of-type {\n",
       "        vertical-align: middle;\n",
       "    }\n",
       "\n",
       "    .dataframe tbody tr th {\n",
       "        vertical-align: top;\n",
       "    }\n",
       "\n",
       "    .dataframe thead th {\n",
       "        text-align: right;\n",
       "    }\n",
       "</style>\n",
       "<table border=\"1\" class=\"dataframe\">\n",
       "  <thead>\n",
       "    <tr style=\"text-align: right;\">\n",
       "      <th></th>\n",
       "      <th>Unnamed: 0</th>\n",
       "      <th>match_id</th>\n",
       "      <th>game_duration</th>\n",
       "      <th>game_mode</th>\n",
       "      <th>map</th>\n",
       "      <th>match_type</th>\n",
       "      <th>stats.DBNOs</th>\n",
       "      <th>stats.assists</th>\n",
       "      <th>stats.boosts</th>\n",
       "      <th>stats.damageDealt</th>\n",
       "      <th>...</th>\n",
       "      <th>stats.teamKills</th>\n",
       "      <th>stats.timeSurvived</th>\n",
       "      <th>stats.vehicleDestroys</th>\n",
       "      <th>stats.walkDistance</th>\n",
       "      <th>stats.weaponsAcquired</th>\n",
       "      <th>stats.winPlace</th>\n",
       "      <th>stats.rank</th>\n",
       "      <th>headshot_rate</th>\n",
       "      <th>minute_per_kill</th>\n",
       "      <th>topTen</th>\n",
       "    </tr>\n",
       "  </thead>\n",
       "  <tbody>\n",
       "    <tr>\n",
       "      <th>176</th>\n",
       "      <td>0</td>\n",
       "      <td>920cdf19-adec-4f0a-99e3-6e03dde7aa5c</td>\n",
       "      <td>2260</td>\n",
       "      <td>squad</td>\n",
       "      <td>Tiger_Main</td>\n",
       "      <td>official</td>\n",
       "      <td>1.0</td>\n",
       "      <td>0.0</td>\n",
       "      <td>0.0</td>\n",
       "      <td>100.00001</td>\n",
       "      <td>...</td>\n",
       "      <td>0.0</td>\n",
       "      <td>1006.0</td>\n",
       "      <td>0.0</td>\n",
       "      <td>0.000000</td>\n",
       "      <td>0.0</td>\n",
       "      <td>17.0</td>\n",
       "      <td>NaN</td>\n",
       "      <td>0.0</td>\n",
       "      <td>2260.0</td>\n",
       "      <td>Loser</td>\n",
       "    </tr>\n",
       "    <tr>\n",
       "      <th>590</th>\n",
       "      <td>0</td>\n",
       "      <td>a75db296-5b70-4b36-8493-2b97f5543759</td>\n",
       "      <td>2083</td>\n",
       "      <td>squad-fpp</td>\n",
       "      <td>Savage_Main</td>\n",
       "      <td>official</td>\n",
       "      <td>2.0</td>\n",
       "      <td>0.0</td>\n",
       "      <td>0.0</td>\n",
       "      <td>118.15531</td>\n",
       "      <td>...</td>\n",
       "      <td>0.0</td>\n",
       "      <td>1232.0</td>\n",
       "      <td>0.0</td>\n",
       "      <td>6.136122</td>\n",
       "      <td>0.0</td>\n",
       "      <td>9.0</td>\n",
       "      <td>NaN</td>\n",
       "      <td>0.5</td>\n",
       "      <td>1041.5</td>\n",
       "      <td>Loser</td>\n",
       "    </tr>\n",
       "    <tr>\n",
       "      <th>1897</th>\n",
       "      <td>0</td>\n",
       "      <td>9ff66bf0-f0b5-4ab5-955b-d969a98e0f80</td>\n",
       "      <td>1327</td>\n",
       "      <td>duo</td>\n",
       "      <td>Summerland_Main</td>\n",
       "      <td>official</td>\n",
       "      <td>0.0</td>\n",
       "      <td>0.0</td>\n",
       "      <td>0.0</td>\n",
       "      <td>193.55500</td>\n",
       "      <td>...</td>\n",
       "      <td>0.0</td>\n",
       "      <td>924.0</td>\n",
       "      <td>0.0</td>\n",
       "      <td>0.000000</td>\n",
       "      <td>0.0</td>\n",
       "      <td>12.0</td>\n",
       "      <td>NaN</td>\n",
       "      <td>0.0</td>\n",
       "      <td>1327.0</td>\n",
       "      <td>Loser</td>\n",
       "    </tr>\n",
       "    <tr>\n",
       "      <th>1906</th>\n",
       "      <td>0</td>\n",
       "      <td>9ff66bf0-f0b5-4ab5-955b-d969a98e0f80</td>\n",
       "      <td>1327</td>\n",
       "      <td>duo</td>\n",
       "      <td>Summerland_Main</td>\n",
       "      <td>official</td>\n",
       "      <td>1.0</td>\n",
       "      <td>0.0</td>\n",
       "      <td>0.0</td>\n",
       "      <td>99.99999</td>\n",
       "      <td>...</td>\n",
       "      <td>0.0</td>\n",
       "      <td>855.0</td>\n",
       "      <td>0.0</td>\n",
       "      <td>0.000000</td>\n",
       "      <td>0.0</td>\n",
       "      <td>18.0</td>\n",
       "      <td>NaN</td>\n",
       "      <td>0.0</td>\n",
       "      <td>1327.0</td>\n",
       "      <td>Loser</td>\n",
       "    </tr>\n",
       "    <tr>\n",
       "      <th>1917</th>\n",
       "      <td>0</td>\n",
       "      <td>9ff66bf0-f0b5-4ab5-955b-d969a98e0f80</td>\n",
       "      <td>1327</td>\n",
       "      <td>duo</td>\n",
       "      <td>Summerland_Main</td>\n",
       "      <td>official</td>\n",
       "      <td>0.0</td>\n",
       "      <td>0.0</td>\n",
       "      <td>0.0</td>\n",
       "      <td>0.00000</td>\n",
       "      <td>...</td>\n",
       "      <td>0.0</td>\n",
       "      <td>0.0</td>\n",
       "      <td>0.0</td>\n",
       "      <td>0.000000</td>\n",
       "      <td>0.0</td>\n",
       "      <td>19.0</td>\n",
       "      <td>NaN</td>\n",
       "      <td>0.0</td>\n",
       "      <td>663.5</td>\n",
       "      <td>Loser</td>\n",
       "    </tr>\n",
       "  </tbody>\n",
       "</table>\n",
       "<p>5 rows × 33 columns</p>\n",
       "</div>"
      ],
      "text/plain": [
       "      Unnamed: 0                              match_id  game_duration  \\\n",
       "176            0  920cdf19-adec-4f0a-99e3-6e03dde7aa5c           2260   \n",
       "590            0  a75db296-5b70-4b36-8493-2b97f5543759           2083   \n",
       "1897           0  9ff66bf0-f0b5-4ab5-955b-d969a98e0f80           1327   \n",
       "1906           0  9ff66bf0-f0b5-4ab5-955b-d969a98e0f80           1327   \n",
       "1917           0  9ff66bf0-f0b5-4ab5-955b-d969a98e0f80           1327   \n",
       "\n",
       "      game_mode              map match_type  stats.DBNOs  stats.assists  \\\n",
       "176       squad       Tiger_Main   official          1.0            0.0   \n",
       "590   squad-fpp      Savage_Main   official          2.0            0.0   \n",
       "1897        duo  Summerland_Main   official          0.0            0.0   \n",
       "1906        duo  Summerland_Main   official          1.0            0.0   \n",
       "1917        duo  Summerland_Main   official          0.0            0.0   \n",
       "\n",
       "      stats.boosts  stats.damageDealt  ... stats.teamKills  \\\n",
       "176            0.0          100.00001  ...             0.0   \n",
       "590            0.0          118.15531  ...             0.0   \n",
       "1897           0.0          193.55500  ...             0.0   \n",
       "1906           0.0           99.99999  ...             0.0   \n",
       "1917           0.0            0.00000  ...             0.0   \n",
       "\n",
       "      stats.timeSurvived  stats.vehicleDestroys  stats.walkDistance  \\\n",
       "176               1006.0                    0.0            0.000000   \n",
       "590               1232.0                    0.0            6.136122   \n",
       "1897               924.0                    0.0            0.000000   \n",
       "1906               855.0                    0.0            0.000000   \n",
       "1917                 0.0                    0.0            0.000000   \n",
       "\n",
       "      stats.weaponsAcquired  stats.winPlace  stats.rank headshot_rate  \\\n",
       "176                     0.0            17.0         NaN           0.0   \n",
       "590                     0.0             9.0         NaN           0.5   \n",
       "1897                    0.0            12.0         NaN           0.0   \n",
       "1906                    0.0            18.0         NaN           0.0   \n",
       "1917                    0.0            19.0         NaN           0.0   \n",
       "\n",
       "     minute_per_kill  topTen  \n",
       "176           2260.0   Loser  \n",
       "590           1041.5   Loser  \n",
       "1897          1327.0   Loser  \n",
       "1906          1327.0   Loser  \n",
       "1917           663.5   Loser  \n",
       "\n",
       "[5 rows x 33 columns]"
      ]
     },
     "execution_count": 83,
     "metadata": {},
     "output_type": "execute_result"
    }
   ],
   "source": [
    "mlDF = oneKill.loc[oneKill[\"stats.walkDistance\"] < 10]\n",
    "mlDF.head()"
   ]
  },
  {
   "cell_type": "code",
   "execution_count": 84,
   "id": "74cad47e",
   "metadata": {},
   "outputs": [],
   "source": [
    "y = mlDF[\"topTen\"]\n",
    "y_names = [\"Loser\", \"TopTen\"]"
   ]
  },
  {
   "cell_type": "code",
   "execution_count": 86,
   "id": "0f3c6cb1",
   "metadata": {},
   "outputs": [],
   "source": [
    "X = mlDF[[\"headshot_rate\", \"minute_per_kill\", \"stats.walkDistance\"]]\n",
    "X_names = [\"headshot_rate\", \"minute_per_kill\", \"stats.walkDistance\"]"
   ]
  },
  {
   "cell_type": "code",
   "execution_count": 87,
   "id": "6ddcd260",
   "metadata": {},
   "outputs": [],
   "source": [
    "# Split the data into training and testing\n",
    "from sklearn.model_selection import train_test_split\n",
    "X_train, X_test, y_train, y_test = train_test_split(X, y)"
   ]
  },
  {
   "cell_type": "code",
   "execution_count": 90,
   "id": "bb726a15",
   "metadata": {},
   "outputs": [],
   "source": [
    "from sklearn import tree\n",
    "#Create decision tree classifier\n",
    "clf = tree.DecisionTreeClassifier()"
   ]
  },
  {
   "cell_type": "code",
   "execution_count": 91,
   "id": "7f130b91",
   "metadata": {},
   "outputs": [
    {
     "data": {
      "text/plain": [
       "0.8793103448275862"
      ]
     },
     "execution_count": 91,
     "metadata": {},
     "output_type": "execute_result"
    }
   ],
   "source": [
    "#Fit to data\n",
    "clf = clf.fit(X_train, y_train)\n",
    "clf.score(X_test, y_test)"
   ]
  },
  {
   "cell_type": "code",
   "execution_count": 92,
   "id": "7737ec42",
   "metadata": {},
   "outputs": [
    {
     "data": {
      "text/plain": [
       "0.8879310344827587"
      ]
     },
     "execution_count": 92,
     "metadata": {},
     "output_type": "execute_result"
    }
   ],
   "source": [
    "from sklearn.ensemble import RandomForestClassifier\n",
    "rf = RandomForestClassifier(n_estimators=200)\n",
    "rf = rf.fit(X_train, y_train)\n",
    "rf.score(X_test, y_test)"
   ]
  },
  {
   "cell_type": "code",
   "execution_count": 94,
   "id": "9fbdc59c",
   "metadata": {},
   "outputs": [
    {
     "data": {
      "text/plain": [
       "[(0.9727388854814074, 'minute_per_kill'),\n",
       " (0.018844665279172373, 'headshot_rate'),\n",
       " (0.008416449239420098, 'stats.walkDistance')]"
      ]
     },
     "execution_count": 94,
     "metadata": {},
     "output_type": "execute_result"
    }
   ],
   "source": [
    "sorted(zip(rf.feature_importances_, X_names), reverse=True)"
   ]
  },
  {
   "cell_type": "code",
   "execution_count": 98,
   "id": "c24e792a",
   "metadata": {},
   "outputs": [
    {
     "data": {
      "image/png": "[encoded data removed]",
      "text/plain": [
       "<Figure size 576x396 with 1 Axes>"
      ]
     },
     "metadata": {},
     "output_type": "display_data"
    },
    {
     "data": {
      "text/plain": [
       "<AxesSubplot:title={'center':'Feature Importances of 3 Features using RandomForestClassifier'}, xlabel='relative importance'>"
      ]
     },
     "execution_count": 98,
     "metadata": {},
     "output_type": "execute_result"
    }
   ],
   "source": [
    "from yellowbrick.datasets import load_occupancy\n",
    "from yellowbrick.model_selection import FeatureImportances\n",
    "\n",
    "viz = FeatureImportances(rf)\n",
    "viz.fit(X, y)\n",
    "viz.show()"
   ]
  },
  {
   "cell_type": "code",
   "execution_count": 103,
   "id": "7161765f",
   "metadata": {},
   "outputs": [],
   "source": [
    "predictions = rf.predict(X_test)"
   ]
  },
  {
   "cell_type": "code",
   "execution_count": 105,
   "id": "e799bdb2",
   "metadata": {},
   "outputs": [
    {
     "name": "stdout",
     "output_type": "stream",
     "text": [
      "Accuracy: 0.8879310344827587\n"
     ]
    }
   ],
   "source": [
    "from sklearn import metrics\n",
    "print(\"Accuracy:\", metrics.accuracy_score(y_test, predictions))"
   ]
  },
  {
   "cell_type": "code",
   "execution_count": 107,
   "id": "9d8d6e3d",
   "metadata": {},
   "outputs": [
    {
     "name": "stdout",
     "output_type": "stream",
     "text": [
      "              precision    recall  f1-score   support\n",
      "\n",
      "       Loser       0.91      0.94      0.92        83\n",
      "      TopTen       0.83      0.76      0.79        33\n",
      "\n",
      "    accuracy                           0.89       116\n",
      "   macro avg       0.87      0.85      0.86       116\n",
      "weighted avg       0.89      0.89      0.89       116\n",
      "\n"
     ]
    }
   ],
   "source": [
    "from sklearn.metrics import classification_report\n",
    "print(classification_report(y_test, predictions, target_names = y_names))"
   ]
  },
  {
   "cell_type": "code",
   "execution_count": 112,
   "id": "f01aa1ef",
   "metadata": {},
   "outputs": [
    {
     "data": {
      "image/png": "[encoded data removed]",
      "text/plain": [
       "<Figure size 576x396 with 2 Axes>"
      ]
     },
     "metadata": {},
     "output_type": "display_data"
    },
    {
     "data": {
      "text/plain": [
       "<AxesSubplot:title={'center':'RandomForestClassifier Classification Report'}>"
      ]
     },
     "execution_count": 112,
     "metadata": {},
     "output_type": "execute_result"
    }
   ],
   "source": [
    "from yellowbrick.classifier import ClassificationReport\n",
    "from yellowbrick.datasets import load_occupancy\n",
    "visualizer = ClassificationReport(rf, target_names = y_names, support=True)\n",
    "visualizer.fit(X_train, y_train)        # Fit the visualizer and the model\n",
    "visualizer.score(X_test, y_test)        # Evaluate the model on the test data\n",
    "visualizer.show()                       # Finalize and show the figure"
   ]
  },
  {
   "cell_type": "code",
   "execution_count": null,
   "id": "4a67e0de",
   "metadata": {},
   "outputs": [],
   "source": []
  }
 ],
 "metadata": {
  "kernelspec": {
   "display_name": "Python [conda env:PythonAdv] *",
   "language": "python",
   "name": "conda-env-PythonAdv-py"
  },
  "language_info": {
   "codemirror_mode": {
    "name": "ipython",
    "version": 3
   },
   "file_extension": ".py",
   "mimetype": "text/x-python",
   "name": "python",
   "nbconvert_exporter": "python",
   "pygments_lexer": "ipython3",
   "version": "3.6.13"
  }
 },
 "nbformat": 4,
 "nbformat_minor": 5
}
