{
 "cells": [
  {
   "cell_type": "code",
   "execution_count": 5,
   "metadata": {},
   "outputs": [],
   "source": [
    "import pandas as pd"
   ]
  },
  {
   "cell_type": "code",
   "execution_count": 6,
   "metadata": {},
   "outputs": [
    {
     "name": "stderr",
     "output_type": "stream",
     "text": [
      "C:\\Users\\10pai\\anaconda3\\envs\\PythonAdv\\lib\\site-packages\\IPython\\core\\interactiveshell.py:3072: DtypeWarning: Columns (1,3,21,40,42,43,63,64,65,66,68,69,70,197,198,203,205,209,211,218,219,220,221,223,225,226) have mixed types.Specify dtype option on import or set low_memory=False.\n",
      "  interactivity=interactivity, compiler=compiler, result=result)\n"
     ]
    }
   ],
   "source": [
    "match_samps = pd.read_csv('../data/match_samps.csv')\n",
    "model_samps = pd.read_csv('../data/model_samps.csv')\n",
    "player_rank = pd.read_csv('../data/player_rank.csv')\n",
    "sample_matchIds = pd.read_csv('../data/sample_matchIds.csv')\n",
    "season_one_and_two_ranked_player_stats = pd.read_csv('../data/season_one_and_two_ranked_player_stats.csv')\n",
    "test_telemetry = pd.read_csv('../data/test_telemetry.csv')"
   ]
  },
  {
   "cell_type": "code",
   "execution_count": 7,
   "metadata": {},
   "outputs": [],
   "source": [
    "#Export to html files\n",
    "match_samps.to_html('match_samps.html')\n",
    "model_samps.to_html('model_samps.html')\n",
    "player_rank.to_html('player_rank.html')\n",
    "sample_matchIds.to_html('sample_matchIds.html')\n",
    "season_one_and_two_ranked_player_stats.to_html('season_one_and_two_ranked_player_stats.html')\n",
    "test_telemetry.to_html('test_telemetry.html')"
   ]
  }
 ],
 "metadata": {
  "kernelspec": {
   "display_name": "Python [conda env:PythonAdv]",
   "language": "python",
   "name": "conda-env-PythonAdv-py"
  },
  "language_info": {
   "codemirror_mode": {
    "name": "ipython",
    "version": 3
   },
   "file_extension": ".py",
   "mimetype": "text/x-python",
   "name": "python",
   "nbconvert_exporter": "python",
   "pygments_lexer": "ipython3",
   "version": "3.6.13"
  }
 },
 "nbformat": 4,
 "nbformat_minor": 4
}
