{
 "cells": [
  {
   "cell_type": "markdown",
   "metadata": {},
   "source": [
    "# Player Segementation Notebook"
   ]
  },
  {
   "cell_type": "code",
   "execution_count": 1,
   "metadata": {},
   "outputs": [],
   "source": [
    "import numpy as np\n",
    "import pandas as pd\n",
    "import matplotlib.pyplot as plt\n",
    "import seaborn as sns"
   ]
  },
  {
   "cell_type": "code",
   "execution_count": 3,
   "metadata": {},
   "outputs": [
    {
     "data": {
      "text/html": [
       "<div>\n",
       "<style scoped>\n",
       "    .dataframe tbody tr th:only-of-type {\n",
       "        vertical-align: middle;\n",
       "    }\n",
       "\n",
       "    .dataframe tbody tr th {\n",
       "        vertical-align: top;\n",
       "    }\n",
       "\n",
       "    .dataframe thead th {\n",
       "        text-align: right;\n",
       "    }\n",
       "</style>\n",
       "<table border=\"1\" class=\"dataframe\">\n",
       "  <thead>\n",
       "    <tr style=\"text-align: right;\">\n",
       "      <th></th>\n",
       "      <th>name</th>\n",
       "      <th>account_id</th>\n",
       "      <th>rank</th>\n",
       "      <th>games</th>\n",
       "      <th>kills</th>\n",
       "      <th>wins</th>\n",
       "      <th>average_damage</th>\n",
       "      <th>win_ratio</th>\n",
       "      <th>season</th>\n",
       "      <th>game_type</th>\n",
       "      <th>season_length</th>\n",
       "    </tr>\n",
       "  </thead>\n",
       "  <tbody>\n",
       "    <tr>\n",
       "      <th>0</th>\n",
       "      <td>Oilersfan74</td>\n",
       "      <td>account.166d81fc85534147b1b4bf2e537d5077</td>\n",
       "      <td>1</td>\n",
       "      <td>2463</td>\n",
       "      <td>2348</td>\n",
       "      <td>34</td>\n",
       "      <td>116</td>\n",
       "      <td>0.013804</td>\n",
       "      <td>xbox-01</td>\n",
       "      <td>solo</td>\n",
       "      <td>30</td>\n",
       "    </tr>\n",
       "    <tr>\n",
       "      <th>1</th>\n",
       "      <td>ALPHA NANOC</td>\n",
       "      <td>account.f396a20e56a94b4ba82b5f4eebd54861</td>\n",
       "      <td>1</td>\n",
       "      <td>2075</td>\n",
       "      <td>10399</td>\n",
       "      <td>429</td>\n",
       "      <td>526</td>\n",
       "      <td>0.206747</td>\n",
       "      <td>xbox-02</td>\n",
       "      <td>solo</td>\n",
       "      <td>173</td>\n",
       "    </tr>\n",
       "    <tr>\n",
       "      <th>2</th>\n",
       "      <td>XIISJagobo</td>\n",
       "      <td>account.55ff3a6b5c964172a677104edeb8f2ce</td>\n",
       "      <td>2</td>\n",
       "      <td>1755</td>\n",
       "      <td>4955</td>\n",
       "      <td>231</td>\n",
       "      <td>327</td>\n",
       "      <td>0.131624</td>\n",
       "      <td>xbox-02</td>\n",
       "      <td>solo</td>\n",
       "      <td>173</td>\n",
       "    </tr>\n",
       "    <tr>\n",
       "      <th>3</th>\n",
       "      <td>WyattEarpXXX</td>\n",
       "      <td>account.d6c2446f5a924e53bb74b286ca1cc9ed</td>\n",
       "      <td>2</td>\n",
       "      <td>1136</td>\n",
       "      <td>4902</td>\n",
       "      <td>171</td>\n",
       "      <td>527</td>\n",
       "      <td>0.150528</td>\n",
       "      <td>xbox-01</td>\n",
       "      <td>solo</td>\n",
       "      <td>30</td>\n",
       "    </tr>\n",
       "    <tr>\n",
       "      <th>4</th>\n",
       "      <td>XIISJagobo</td>\n",
       "      <td>account.55ff3a6b5c964172a677104edeb8f2ce</td>\n",
       "      <td>3</td>\n",
       "      <td>1209</td>\n",
       "      <td>3424</td>\n",
       "      <td>137</td>\n",
       "      <td>323</td>\n",
       "      <td>0.113317</td>\n",
       "      <td>xbox-01</td>\n",
       "      <td>solo</td>\n",
       "      <td>30</td>\n",
       "    </tr>\n",
       "    <tr>\n",
       "      <th>5</th>\n",
       "      <td>JonFriendly</td>\n",
       "      <td>account.14731f042cdb45fa8fd4edb5f47ac29e</td>\n",
       "      <td>3</td>\n",
       "      <td>1649</td>\n",
       "      <td>3575</td>\n",
       "      <td>123</td>\n",
       "      <td>238</td>\n",
       "      <td>0.074591</td>\n",
       "      <td>xbox-02</td>\n",
       "      <td>solo</td>\n",
       "      <td>173</td>\n",
       "    </tr>\n",
       "    <tr>\n",
       "      <th>6</th>\n",
       "      <td>XreecyX</td>\n",
       "      <td>account.a0af18f8ce5040a6a3b45029e8adea3c</td>\n",
       "      <td>4</td>\n",
       "      <td>1593</td>\n",
       "      <td>8090</td>\n",
       "      <td>316</td>\n",
       "      <td>534</td>\n",
       "      <td>0.198368</td>\n",
       "      <td>xbox-02</td>\n",
       "      <td>solo</td>\n",
       "      <td>173</td>\n",
       "    </tr>\n",
       "    <tr>\n",
       "      <th>7</th>\n",
       "      <td>Brat0069</td>\n",
       "      <td>account.3520dffd3e3944e1893175cfef9e85f5</td>\n",
       "      <td>4</td>\n",
       "      <td>1745</td>\n",
       "      <td>2363</td>\n",
       "      <td>130</td>\n",
       "      <td>153</td>\n",
       "      <td>0.074499</td>\n",
       "      <td>xbox-01</td>\n",
       "      <td>solo</td>\n",
       "      <td>30</td>\n",
       "    </tr>\n",
       "    <tr>\n",
       "      <th>8</th>\n",
       "      <td>zCritic</td>\n",
       "      <td>account.dfea3f7020494c53afd7bdd8e2528910</td>\n",
       "      <td>5</td>\n",
       "      <td>1344</td>\n",
       "      <td>7153</td>\n",
       "      <td>212</td>\n",
       "      <td>552</td>\n",
       "      <td>0.157738</td>\n",
       "      <td>xbox-01</td>\n",
       "      <td>solo</td>\n",
       "      <td>30</td>\n",
       "    </tr>\n",
       "    <tr>\n",
       "      <th>9</th>\n",
       "      <td>xBindersx</td>\n",
       "      <td>account.6668be42410243cf9446a2d45788b2a2</td>\n",
       "      <td>5</td>\n",
       "      <td>2290</td>\n",
       "      <td>9217</td>\n",
       "      <td>163</td>\n",
       "      <td>430</td>\n",
       "      <td>0.071179</td>\n",
       "      <td>xbox-02</td>\n",
       "      <td>solo</td>\n",
       "      <td>173</td>\n",
       "    </tr>\n",
       "  </tbody>\n",
       "</table>\n",
       "</div>"
      ],
      "text/plain": [
       "           name                                account_id  rank  games  kills  \\\n",
       "0   Oilersfan74  account.166d81fc85534147b1b4bf2e537d5077     1   2463   2348   \n",
       "1   ALPHA NANOC  account.f396a20e56a94b4ba82b5f4eebd54861     1   2075  10399   \n",
       "2    XIISJagobo  account.55ff3a6b5c964172a677104edeb8f2ce     2   1755   4955   \n",
       "3  WyattEarpXXX  account.d6c2446f5a924e53bb74b286ca1cc9ed     2   1136   4902   \n",
       "4    XIISJagobo  account.55ff3a6b5c964172a677104edeb8f2ce     3   1209   3424   \n",
       "5   JonFriendly  account.14731f042cdb45fa8fd4edb5f47ac29e     3   1649   3575   \n",
       "6       XreecyX  account.a0af18f8ce5040a6a3b45029e8adea3c     4   1593   8090   \n",
       "7      Brat0069  account.3520dffd3e3944e1893175cfef9e85f5     4   1745   2363   \n",
       "8       zCritic  account.dfea3f7020494c53afd7bdd8e2528910     5   1344   7153   \n",
       "9     xBindersx  account.6668be42410243cf9446a2d45788b2a2     5   2290   9217   \n",
       "\n",
       "   wins  average_damage  win_ratio   season game_type  season_length  \n",
       "0    34             116   0.013804  xbox-01      solo             30  \n",
       "1   429             526   0.206747  xbox-02      solo            173  \n",
       "2   231             327   0.131624  xbox-02      solo            173  \n",
       "3   171             527   0.150528  xbox-01      solo             30  \n",
       "4   137             323   0.113317  xbox-01      solo             30  \n",
       "5   123             238   0.074591  xbox-02      solo            173  \n",
       "6   316             534   0.198368  xbox-02      solo            173  \n",
       "7   130             153   0.074499  xbox-01      solo             30  \n",
       "8   212             552   0.157738  xbox-01      solo             30  \n",
       "9   163             430   0.071179  xbox-02      solo            173  "
      ]
     },
     "execution_count": 3,
     "metadata": {},
     "output_type": "execute_result"
    }
   ],
   "source": [
    "df = pd.read_csv(\"player_rank.csv\")\n",
    "df.head(10)"
   ]
  },
  {
   "cell_type": "code",
   "execution_count": 5,
   "metadata": {},
   "outputs": [
    {
     "data": {
      "text/plain": [
       "(644, 11)"
      ]
     },
     "execution_count": 5,
     "metadata": {},
     "output_type": "execute_result"
    }
   ],
   "source": [
    "df.shape"
   ]
  },
  {
   "cell_type": "code",
   "execution_count": 6,
   "metadata": {},
   "outputs": [
    {
     "data": {
      "text/html": [
       "<div>\n",
       "<style scoped>\n",
       "    .dataframe tbody tr th:only-of-type {\n",
       "        vertical-align: middle;\n",
       "    }\n",
       "\n",
       "    .dataframe tbody tr th {\n",
       "        vertical-align: top;\n",
       "    }\n",
       "\n",
       "    .dataframe thead th {\n",
       "        text-align: right;\n",
       "    }\n",
       "</style>\n",
       "<table border=\"1\" class=\"dataframe\">\n",
       "  <thead>\n",
       "    <tr style=\"text-align: right;\">\n",
       "      <th></th>\n",
       "      <th>rank</th>\n",
       "      <th>games</th>\n",
       "      <th>kills</th>\n",
       "      <th>wins</th>\n",
       "      <th>average_damage</th>\n",
       "      <th>win_ratio</th>\n",
       "      <th>season_length</th>\n",
       "    </tr>\n",
       "  </thead>\n",
       "  <tbody>\n",
       "    <tr>\n",
       "      <th>count</th>\n",
       "      <td>644.000000</td>\n",
       "      <td>644.000000</td>\n",
       "      <td>644.000000</td>\n",
       "      <td>644.000000</td>\n",
       "      <td>644.000000</td>\n",
       "      <td>644.000000</td>\n",
       "      <td>644.000000</td>\n",
       "    </tr>\n",
       "    <tr>\n",
       "      <th>mean</th>\n",
       "      <td>210.698758</td>\n",
       "      <td>1004.757764</td>\n",
       "      <td>1499.953416</td>\n",
       "      <td>35.781056</td>\n",
       "      <td>188.708075</td>\n",
       "      <td>0.043936</td>\n",
       "      <td>61.975155</td>\n",
       "    </tr>\n",
       "    <tr>\n",
       "      <th>std</th>\n",
       "      <td>148.647378</td>\n",
       "      <td>395.400453</td>\n",
       "      <td>1155.703808</td>\n",
       "      <td>45.020820</td>\n",
       "      <td>124.483850</td>\n",
       "      <td>0.057457</td>\n",
       "      <td>59.628497</td>\n",
       "    </tr>\n",
       "    <tr>\n",
       "      <th>min</th>\n",
       "      <td>1.000000</td>\n",
       "      <td>321.000000</td>\n",
       "      <td>139.000000</td>\n",
       "      <td>0.000000</td>\n",
       "      <td>20.000000</td>\n",
       "      <td>0.000000</td>\n",
       "      <td>30.000000</td>\n",
       "    </tr>\n",
       "    <tr>\n",
       "      <th>25%</th>\n",
       "      <td>81.000000</td>\n",
       "      <td>724.750000</td>\n",
       "      <td>816.250000</td>\n",
       "      <td>9.000000</td>\n",
       "      <td>111.000000</td>\n",
       "      <td>0.008857</td>\n",
       "      <td>30.000000</td>\n",
       "    </tr>\n",
       "    <tr>\n",
       "      <th>50%</th>\n",
       "      <td>178.500000</td>\n",
       "      <td>916.000000</td>\n",
       "      <td>1152.500000</td>\n",
       "      <td>17.000000</td>\n",
       "      <td>137.000000</td>\n",
       "      <td>0.020233</td>\n",
       "      <td>30.000000</td>\n",
       "    </tr>\n",
       "    <tr>\n",
       "      <th>75%</th>\n",
       "      <td>339.250000</td>\n",
       "      <td>1191.750000</td>\n",
       "      <td>1772.000000</td>\n",
       "      <td>49.000000</td>\n",
       "      <td>246.750000</td>\n",
       "      <td>0.060615</td>\n",
       "      <td>30.000000</td>\n",
       "    </tr>\n",
       "    <tr>\n",
       "      <th>max</th>\n",
       "      <td>500.000000</td>\n",
       "      <td>3212.000000</td>\n",
       "      <td>10399.000000</td>\n",
       "      <td>429.000000</td>\n",
       "      <td>939.000000</td>\n",
       "      <td>0.398990</td>\n",
       "      <td>173.000000</td>\n",
       "    </tr>\n",
       "  </tbody>\n",
       "</table>\n",
       "</div>"
      ],
      "text/plain": [
       "             rank        games         kills        wins  average_damage  \\\n",
       "count  644.000000   644.000000    644.000000  644.000000      644.000000   \n",
       "mean   210.698758  1004.757764   1499.953416   35.781056      188.708075   \n",
       "std    148.647378   395.400453   1155.703808   45.020820      124.483850   \n",
       "min      1.000000   321.000000    139.000000    0.000000       20.000000   \n",
       "25%     81.000000   724.750000    816.250000    9.000000      111.000000   \n",
       "50%    178.500000   916.000000   1152.500000   17.000000      137.000000   \n",
       "75%    339.250000  1191.750000   1772.000000   49.000000      246.750000   \n",
       "max    500.000000  3212.000000  10399.000000  429.000000      939.000000   \n",
       "\n",
       "        win_ratio  season_length  \n",
       "count  644.000000     644.000000  \n",
       "mean     0.043936      61.975155  \n",
       "std      0.057457      59.628497  \n",
       "min      0.000000      30.000000  \n",
       "25%      0.008857      30.000000  \n",
       "50%      0.020233      30.000000  \n",
       "75%      0.060615      30.000000  \n",
       "max      0.398990     173.000000  "
      ]
     },
     "execution_count": 6,
     "metadata": {},
     "output_type": "execute_result"
    }
   ],
   "source": [
    "df.describe()"
   ]
  },
  {
   "cell_type": "code",
   "execution_count": 7,
   "metadata": {},
   "outputs": [
    {
     "data": {
      "text/plain": [
       "name               object\n",
       "account_id         object\n",
       "rank                int64\n",
       "games               int64\n",
       "kills               int64\n",
       "wins                int64\n",
       "average_damage      int64\n",
       "win_ratio         float64\n",
       "season             object\n",
       "game_type          object\n",
       "season_length       int64\n",
       "dtype: object"
      ]
     },
     "execution_count": 7,
     "metadata": {},
     "output_type": "execute_result"
    }
   ],
   "source": [
    "df.dtypes"
   ]
  },
  {
   "cell_type": "code",
   "execution_count": 8,
   "metadata": {},
   "outputs": [
    {
     "data": {
      "text/plain": [
       "name              0\n",
       "account_id        0\n",
       "rank              0\n",
       "games             0\n",
       "kills             0\n",
       "wins              0\n",
       "average_damage    0\n",
       "win_ratio         0\n",
       "season            0\n",
       "game_type         0\n",
       "season_length     0\n",
       "dtype: int64"
      ]
     },
     "execution_count": 8,
     "metadata": {},
     "output_type": "execute_result"
    }
   ],
   "source": [
    "df.isnull().sum()"
   ]
  },
  {
   "cell_type": "code",
   "execution_count": 10,
   "metadata": {},
   "outputs": [
    {
     "name": "stderr",
     "output_type": "stream",
     "text": [
      "C:\\Users\\tbrid\\anaconda3\\lib\\site-packages\\seaborn\\distributions.py:2551: FutureWarning: `distplot` is a deprecated function and will be removed in a future version. Please adapt your code to use either `displot` (a figure-level function with similar flexibility) or `histplot` (an axes-level function for histograms).\n",
      "  warnings.warn(msg, FutureWarning)\n",
      "C:\\Users\\tbrid\\anaconda3\\lib\\site-packages\\seaborn\\distributions.py:2551: FutureWarning: `distplot` is a deprecated function and will be removed in a future version. Please adapt your code to use either `displot` (a figure-level function with similar flexibility) or `histplot` (an axes-level function for histograms).\n",
      "  warnings.warn(msg, FutureWarning)\n",
      "C:\\Users\\tbrid\\anaconda3\\lib\\site-packages\\seaborn\\distributions.py:2551: FutureWarning: `distplot` is a deprecated function and will be removed in a future version. Please adapt your code to use either `displot` (a figure-level function with similar flexibility) or `histplot` (an axes-level function for histograms).\n",
      "  warnings.warn(msg, FutureWarning)\n"
     ]
    },
    {
     "data": {
      "image/png": "[encoded data removed]",
      "text/plain": [
       "<Figure size 1080x432 with 3 Axes>"
      ]
     },
     "metadata": {
      "needs_background": "light"
     },
     "output_type": "display_data"
    }
   ],
   "source": [
    "plt.figure(1, figsize=(15,6))\n",
    "n=0\n",
    "for x in ['kills', 'games', 'wins']:\n",
    "    n+=1\n",
    "    plt.subplot(1, 3, n)\n",
    "    plt.subplots_adjust(hspace = 0.5, wspace = 0.5)\n",
    "    sns.distplot(df[x], bins = 20)\n",
    "    plt.title('Distribution plot of {}'.format(x))\n",
    "plt.show()"
   ]
  },
  {
   "cell_type": "code",
   "execution_count": 11,
   "metadata": {},
   "outputs": [
    {
     "data": {
      "text/plain": [
       "<seaborn.axisgrid.FacetGrid at 0x1a45d4a9850>"
      ]
     },
     "execution_count": 11,
     "metadata": {},
     "output_type": "execute_result"
    },
    {
     "data": {
      "image/png": "[encoded data removed]",
      "text/plain": [
       "<Figure size 360x360 with 1 Axes>"
      ]
     },
     "metadata": {
      "needs_background": "light"
     },
     "output_type": "display_data"
    }
   ],
   "source": [
    "sns.relplot(x='games', y = 'wins', data=df)"
   ]
  },
  {
   "cell_type": "code",
   "execution_count": 14,
   "metadata": {},
   "outputs": [
    {
     "data": {
      "image/png": "[encoded data removed]",
      "text/plain": [
       "<Figure size 864x432 with 1 Axes>"
      ]
     },
     "metadata": {
      "needs_background": "light"
     },
     "output_type": "display_data"
    }
   ],
   "source": [
    "kluster = df.loc[:, ['kills', 'wins']].values\n",
    "\n",
    "from sklearn.cluster import KMeans\n",
    "wcss=[]\n",
    "for k in range (1, 11):\n",
    "    kmeans = KMeans(n_clusters=k, init=\"k-means++\")\n",
    "    kmeans.fit(kluster)\n",
    "    wcss.append(kmeans.inertia_)\n",
    "plt.figure(figsize=(12,6))\n",
    "plt.grid()\n",
    "plt.plot(range(1,11),wcss, linewidth=2, color='red', marker = \"8\")\n",
    "plt.xlabel(\"K Value\")\n",
    "plt.ylabel(\"wcss\")\n",
    "plt.show()"
   ]
  },
  {
   "cell_type": "code",
   "execution_count": 16,
   "metadata": {},
   "outputs": [
    {
     "name": "stdout",
     "output_type": "stream",
     "text": [
      "[1 2 2 2 1 1 2 1 2 2 1 1 2 1 2 1 1 0 1 1 1 1 1 1 2 1 2 0 0 1 0 2 1 0 1 1 1\n",
      " 0 0 1 0 0 0 1 1 1 1 0 1 0 1 1 1 1 1 0 1 0 0 2 2 1 1 0 1 0 0 2 1 1 1 1 0 1\n",
      " 0 2 1 0 0 1 1 1 0 1 1 0 1 0 0 1 1 0 1 0 0 1 0 0 0 0 1 0 0 0 0 1 0 1 0 1 0\n",
      " 0 0 0 1 1 1 0 1 1 1 0 1 0 1 0 2 0 0 0 1 2 1 0 1 1 0 1 0 0 1 1 1 0 1 1 1 1\n",
      " 1 1 0 0 1 0 0 1 0 1 1 0 2 1 1 1 1 2 0 0 1 0 1 1 0 1 1 1 2 0 0 1 0 1 1 1 1\n",
      " 0 0 0 0 1 1 0 0 0 0 1 1 0 0 1 2 1 1 0 0 0 0 1 1 1 1 0 1 1 1 0 0 2 0 0 1 1\n",
      " 0 2 0 0 1 0 0 0 0 0 0 1 1 0 1 0 1 0 0 0 1 0 1 1 0 1 0 0 1 0 0 1 1 0 0 1 1\n",
      " 0 0 1 0 0 0 0 0 0 1 0 1 0 1 0 0 0 0 0 1 0 0 1 0 0 0 0 0 0 1 0 1 0 0 0 0 0\n",
      " 0 0 0 0 0 2 0 1 0 0 0 0 0 0 0 1 0 1 0 0 0 1 0 0 0 0 0 0 0 0 0 0 0 1 0 0 0\n",
      " 0 0 0 0 0 1 1 0 0 0 0 0 0 0 0 0 1 0 0 1 0 0 2 0 0 0 0 0 0 0 0 0 0 1 1 0 0\n",
      " 1 0 0 0 0 0 0 0 0 1 0 0 0 0 0 1 0 0 0 0 0 0 0 0 1 0 0 0 0 0 0 1 0 0 0 1 0\n",
      " 0 0 0 0 0 0 0 0 0 0 0 0 2 0 0 0 0 1 0 0 0 1 0 0 0 0 0 0 0 0 0 0 0 0 0 0 1\n",
      " 0 0 0 0 1 0 0 0 0 1 0 0 0 0 0 1 0 0 0 0 0 0 0 0 0 0 0 0 0 0 0 0 0 0 1 0 0\n",
      " 0 0 0 0 0 0 0 0 0 1 1 0 0 0 0 1 0 0 0 0 0 0 0 1 0 0 0 0 0 0 0 1 0 0 0 0 0\n",
      " 0 0 1 0 0 0 0 0 1 0 0 0 0 0 0 0 0 0 0 0 0 0 0 0 0 0 0 0 0 1 0 0 0 0 0 0 0\n",
      " 0 0 0 0 0 0 0 0 0 0 0 0 0 0 0 0 0 0 0 0 0 0 0 0 0 0 0 0 0 0 0 0 0 0 0 0 0\n",
      " 0 0 0 0 0 0 0 0 0 0 0 0 0 0 0 1 0 0 0 0 1 0 0 0 0 0 0 0 0 0 0 0 0 0 0 0 0\n",
      " 0 0 0 0 0 0 0 0 0 0 0 0 0 0 0]\n"
     ]
    }
   ],
   "source": [
    "kmeans = KMeans(n_clusters=3)\n",
    "label = kmeans.fit_predict(kluster)\n",
    "print(label)\n",
    "#check clusters"
   ]
  },
  {
   "cell_type": "code",
   "execution_count": 18,
   "metadata": {},
   "outputs": [
    {
     "name": "stdout",
     "output_type": "stream",
     "text": [
      "[[ 964.96659243   18.55679287]\n",
      " [2273.22485207   61.34319527]\n",
      " [5712.5         167.07692308]]\n"
     ]
    }
   ],
   "source": [
    "print(kmeans.cluster_centers_)\n",
    "#show centroids"
   ]
  },
  {
   "cell_type": "code",
   "execution_count": 19,
   "metadata": {},
   "outputs": [
    {
     "data": {
      "image/png": "[encoded data removed]",
      "text/plain": [
       "<Figure size 432x288 with 1 Axes>"
      ]
     },
     "metadata": {
      "needs_background": "light"
     },
     "output_type": "display_data"
    }
   ],
   "source": [
    "plt.scatter(kluster[:,0], kluster[:,1], c=kmeans.labels_, cmap=\"rainbow\")\n",
    "plt.scatter(kmeans.cluster_centers_[:,0], kmeans.cluster_centers_[:,1], color=\"black\")\n",
    "plt.title(\"clusters of players\")\n",
    "plt.xlabel(\"kills\")\n",
    "plt.ylabel(\"wins\")\n",
    "plt.show()"
   ]
  },
  {
   "cell_type": "code",
   "execution_count": null,
   "metadata": {},
   "outputs": [],
   "source": []
  }
 ],
 "metadata": {
  "kernelspec": {
   "display_name": "Python 3",
   "language": "python",
   "name": "python3"
  },
  "language_info": {
   "codemirror_mode": {
    "name": "ipython",
    "version": 3
   },
   "file_extension": ".py",
   "mimetype": "text/x-python",
   "name": "python",
   "nbconvert_exporter": "python",
   "pygments_lexer": "ipython3",
   "version": "3.8.5"
  }
 },
 "nbformat": 4,
 "nbformat_minor": 4
}
