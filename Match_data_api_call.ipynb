{
 "cells": [
  {
   "cell_type": "code",
   "execution_count": 29,
   "metadata": {},
   "outputs": [],
   "source": [
    "import pandas as pd\n",
    "from config import api_key\n",
    "import requests"
   ]
  },
  {
   "cell_type": "code",
   "execution_count": 30,
   "metadata": {},
   "outputs": [
    {
     "data": {
      "text/html": [
       "<div>\n",
       "<style scoped>\n",
       "    .dataframe tbody tr th:only-of-type {\n",
       "        vertical-align: middle;\n",
       "    }\n",
       "\n",
       "    .dataframe tbody tr th {\n",
       "        vertical-align: top;\n",
       "    }\n",
       "\n",
       "    .dataframe thead th {\n",
       "        text-align: right;\n",
       "    }\n",
       "</style>\n",
       "<table border=\"1\" class=\"dataframe\">\n",
       "  <thead>\n",
       "    <tr style=\"text-align: right;\">\n",
       "      <th></th>\n",
       "      <th>type</th>\n",
       "      <th>id</th>\n",
       "    </tr>\n",
       "  </thead>\n",
       "  <tbody>\n",
       "    <tr>\n",
       "      <th>0</th>\n",
       "      <td>match</td>\n",
       "      <td>b62ce27e-d6c8-47d7-bc0b-d7c16858074f</td>\n",
       "    </tr>\n",
       "    <tr>\n",
       "      <th>1</th>\n",
       "      <td>match</td>\n",
       "      <td>920cdf19-adec-4f0a-99e3-6e03dde7aa5c</td>\n",
       "    </tr>\n",
       "    <tr>\n",
       "      <th>2</th>\n",
       "      <td>match</td>\n",
       "      <td>02e8332c-55aa-417f-9615-8794342a0d9c</td>\n",
       "    </tr>\n",
       "    <tr>\n",
       "      <th>3</th>\n",
       "      <td>match</td>\n",
       "      <td>cc15050c-9b83-4cfb-a575-2b328a66646c</td>\n",
       "    </tr>\n",
       "    <tr>\n",
       "      <th>4</th>\n",
       "      <td>match</td>\n",
       "      <td>a75db296-5b70-4b36-8493-2b97f5543759</td>\n",
       "    </tr>\n",
       "    <tr>\n",
       "      <th>...</th>\n",
       "      <td>...</td>\n",
       "      <td>...</td>\n",
       "    </tr>\n",
       "    <tr>\n",
       "      <th>230</th>\n",
       "      <td>match</td>\n",
       "      <td>d8ff7c4c-323f-4aec-9155-a1cbb8c2fe98</td>\n",
       "    </tr>\n",
       "    <tr>\n",
       "      <th>231</th>\n",
       "      <td>match</td>\n",
       "      <td>e9f45141-656b-4575-8231-c7dbdddc93bd</td>\n",
       "    </tr>\n",
       "    <tr>\n",
       "      <th>232</th>\n",
       "      <td>match</td>\n",
       "      <td>f0ffa98c-f78e-4b1f-9530-eee2036248ba</td>\n",
       "    </tr>\n",
       "    <tr>\n",
       "      <th>233</th>\n",
       "      <td>match</td>\n",
       "      <td>d7fd3775-b451-4109-ad5c-d88b3007e58e</td>\n",
       "    </tr>\n",
       "    <tr>\n",
       "      <th>234</th>\n",
       "      <td>match</td>\n",
       "      <td>28d09ac2-7864-4efc-8908-07157f54d24c</td>\n",
       "    </tr>\n",
       "  </tbody>\n",
       "</table>\n",
       "<p>235 rows × 2 columns</p>\n",
       "</div>"
      ],
      "text/plain": [
       "      type                                    id\n",
       "0    match  b62ce27e-d6c8-47d7-bc0b-d7c16858074f\n",
       "1    match  920cdf19-adec-4f0a-99e3-6e03dde7aa5c\n",
       "2    match  02e8332c-55aa-417f-9615-8794342a0d9c\n",
       "3    match  cc15050c-9b83-4cfb-a575-2b328a66646c\n",
       "4    match  a75db296-5b70-4b36-8493-2b97f5543759\n",
       "..     ...                                   ...\n",
       "230  match  d8ff7c4c-323f-4aec-9155-a1cbb8c2fe98\n",
       "231  match  e9f45141-656b-4575-8231-c7dbdddc93bd\n",
       "232  match  f0ffa98c-f78e-4b1f-9530-eee2036248ba\n",
       "233  match  d7fd3775-b451-4109-ad5c-d88b3007e58e\n",
       "234  match  28d09ac2-7864-4efc-8908-07157f54d24c\n",
       "\n",
       "[235 rows x 2 columns]"
      ]
     },
     "execution_count": 30,
     "metadata": {},
     "output_type": "execute_result"
    }
   ],
   "source": [
    "url = f'https://api.pubg.com/shards/console/samples'\n",
    "header= {\"Authorization\": f\"Bearer {api_key}\",\"Accept\": \"application/vnd.api+json\"}\n",
    "response = requests.get(url,headers=header)\n",
    "r = response.json()\n",
    "matches =r['data']['relationships']['matches']['data']\n",
    "match_name = pd.json_normalize(matches)\n",
    "match_name"
   ]
  },
  {
   "cell_type": "code",
   "execution_count": 31,
   "metadata": {},
   "outputs": [],
   "source": [
    "duration_list = []\n",
    "map_list =[]\n",
    "game_mode = []\n",
    "match_type = []\n",
    "match_list = []\n",
    "stats_list = []\n",
    "for match in match_name['id']:\n",
    "    match_id = match\n",
    "    url = f'https://api.pubg.com/shards/console/matches/{match_id}'\n",
    "    header= {\"Authorization\": f\"Bearer {api_key}\",\"Accept\": \"application/vnd.api+json\"}\n",
    "    response = requests.get(url,headers=header)\n",
    "    r = response.json()\n",
    "    length = len(r['included'])-1\n",
    "    for x in range(length):\n",
    "        match_list.append(match_id)\n",
    "        map_list.append(r['data']['attributes']['mapName'])\n",
    "        duration_list.append(r['data']['attributes']['duration'])\n",
    "        game_mode.append(r['data']['attributes']['gameMode'])\n",
    "        match_type.append(r['data']['attributes']['matchType'])\n",
    "        df =f'{x}'\n",
    "        stats = r['included'][x]['attributes']\n",
    "        df = pd.json_normalize(stats)\n",
    "        stats_list.append(df)\n"
   ]
  },
  {
   "cell_type": "code",
   "execution_count": 32,
   "metadata": {},
   "outputs": [],
   "source": [
    "new_df = pd.concat(stats_list)\n",
    "new_df.drop(['actor', 'shardId','won', 'createdAt', 'URL', 'name', 'description',\n",
    "             'stats.teamId'], axis=1, inplace=True)\n",
    "new_df.insert(0, 'match_id', match_list)\n",
    "new_df.insert(1, 'game_duration', duration_list)\n",
    "new_df.insert(2, 'game_mode', game_mode)\n",
    "new_df.insert(3, 'map', map_list)\n",
    "new_df.insert(4, 'match_type', match_type)"
   ]
  },
  {
   "cell_type": "code",
   "execution_count": 33,
   "metadata": {},
   "outputs": [],
   "source": [
    "new_df.to_csv('model_samps.csv')"
   ]
  },
  {
   "cell_type": "code",
   "execution_count": null,
   "metadata": {},
   "outputs": [],
   "source": []
  }
 ],
 "metadata": {
  "kernelspec": {
   "display_name": "Python 3",
   "language": "python",
   "name": "python3"
  },
  "language_info": {
   "codemirror_mode": {
    "name": "ipython",
    "version": 3
   },
   "file_extension": ".py",
   "mimetype": "text/x-python",
   "name": "python",
   "nbconvert_exporter": "python",
   "pygments_lexer": "ipython3",
   "version": "3.8.5"
  }
 },
 "nbformat": 4,
 "nbformat_minor": 4
}
