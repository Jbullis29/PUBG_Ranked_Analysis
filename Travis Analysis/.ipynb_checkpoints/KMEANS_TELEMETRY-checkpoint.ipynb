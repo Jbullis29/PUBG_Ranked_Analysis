{
 "cells": [
  {
   "cell_type": "code",
   "execution_count": 2,
   "metadata": {},
   "outputs": [],
   "source": [
    "import matplotlib.pyplot as plt\n",
    "import numpy as np\n",
    "import pandas as pd"
   ]
  },
  {
   "cell_type": "code",
   "execution_count": 6,
   "metadata": {},
   "outputs": [
    {
     "data": {
      "text/plain": [
       "(20681, 30)"
      ]
     },
     "execution_count": 6,
     "metadata": {},
     "output_type": "execute_result"
    }
   ],
   "source": [
    "df = pd.read_csv(\"match_samps.csv\")\n",
    "df2 = df.drop([\"stats.name\", \"matchId\", \"assetsId\",\"stats.killPlace\", \"matchType\", \"stats.deathType\", \"map\", \"stats.rank\", \"stats.playerId\"], axis=1)\n",
    "value_count = df2['gameMode'].value_counts()\n",
    "df_value_counts = pd.DataFrame(value_count)\n",
    "df_value_counts = df_value_counts.reset_index()\n",
    "df_value_counts.columns = ['gameMode', 'num_games_played']\n",
    "df3 = df2[df2['gameMode']==\"solo\"]\n",
    "df3 = df3.drop(columns=[\"gameMode\"])\n",
    "\n",
    "def f(row):\n",
    "    if row['stats.winPlace'] <= 5:\n",
    "        val = 'Top_Five'\n",
    "    else:\n",
    "        val = 'Unranked'\n",
    "\n",
    "    return val\n",
    "df3['top_five'] = df.apply(f, axis=1)\n",
    "df3 = df3.rename(columns={'stats.DBNOs':'DBNOs', 'stats.assists':'Assists', 'stats.boosts':'Boosts',\n",
    "                          'stats.damageDealt':'DamageDealt','stats.headshotKills':'HeadshotKills', \n",
    "                          'stats.heals':'Heals', 'stats.killStreaks':'KillStreaks', 'stats.kills':'Kills',\n",
    "                          'stats.longestKill':'LongestKill','stats.rideDistance':'RideDistance',\n",
    "                          'stats.roadKills':'VehicleKills','stats.swimDistance':'SwimDistance',\n",
    "                          'stats.teamKills':'TeamKills', 'stats.timeSurvived':'TimeSurvived',\n",
    "                          'stats.vehicleDestroys':'VehicleDestroys','stats.walkDistance':'WalkDistance',\n",
    "                          'stats.weaponsAcquired':'WeaponsAcquired','stats.winPlace':'WinPlace','stats.revives':'Revives'})\n",
    "df.shape"
   ]
  },
  {
   "cell_type": "code",
   "execution_count": 5,
   "metadata": {},
   "outputs": [],
   "source": [
    "df3.to_html('match_samps.html')"
   ]
  },
  {
   "cell_type": "code",
   "execution_count": null,
   "metadata": {},
   "outputs": [],
   "source": []
  }
 ],
 "metadata": {
  "kernelspec": {
   "display_name": "Python 3",
   "language": "python",
   "name": "python3"
  },
  "language_info": {
   "codemirror_mode": {
    "name": "ipython",
    "version": 3
   },
   "file_extension": ".py",
   "mimetype": "text/x-python",
   "name": "python",
   "nbconvert_exporter": "python",
   "pygments_lexer": "ipython3",
   "version": "3.8.5"
  }
 },
 "nbformat": 4,
 "nbformat_minor": 4
}
