{
 "cells": [
  {
   "cell_type": "code",
   "execution_count": 1,
   "metadata": {},
   "outputs": [],
   "source": [
    "import numpy as np\n",
    "import pandas as pd"
   ]
  },
  {
   "cell_type": "code",
   "execution_count": 2,
   "metadata": {},
   "outputs": [],
   "source": [
    "df = pd.read_csv(\"match_samps.csv\")\n",
    "df2 = df.drop([\"stats.name\", \"matchId\", \"assetsId\", \"matchType\", \"stats.deathType\", \"map\", \"stats.rank\", \"stats.playerId\"], axis=1)\n",
    "value_count = df2['gameMode'].value_counts()\n",
    "df_value_counts = pd.DataFrame(value_count)\n",
    "df_value_counts = df_value_counts.reset_index()\n",
    "df_value_counts.columns = ['gameMode', 'num_games_played']\n",
    "df3 = df2[df2['gameMode']==\"solo\"]\n",
    "df3 = df3.drop(columns=[\"gameMode\"])\n",
    "\n",
    "def f(row):\n",
    "    if row['stats.winPlace'] <= 5:\n",
    "        val = 1\n",
    "    else:\n",
    "        val = 0\n",
    "\n",
    "    return val\n",
    "df3['top_five'] = df.apply(f, axis=1)"
   ]
  },
  {
   "cell_type": "code",
   "execution_count": 3,
   "metadata": {},
   "outputs": [
    {
     "data": {
      "text/html": [
       "<div>\n",
       "<style scoped>\n",
       "    .dataframe tbody tr th:only-of-type {\n",
       "        vertical-align: middle;\n",
       "    }\n",
       "\n",
       "    .dataframe tbody tr th {\n",
       "        vertical-align: top;\n",
       "    }\n",
       "\n",
       "    .dataframe thead th {\n",
       "        text-align: right;\n",
       "    }\n",
       "</style>\n",
       "<table border=\"1\" class=\"dataframe\">\n",
       "  <thead>\n",
       "    <tr style=\"text-align: right;\">\n",
       "      <th></th>\n",
       "      <th>gameDuration</th>\n",
       "      <th>stats.DBNOs</th>\n",
       "      <th>stats.assists</th>\n",
       "      <th>stats.boosts</th>\n",
       "      <th>stats.damageDealt</th>\n",
       "      <th>stats.headshotKills</th>\n",
       "      <th>stats.heals</th>\n",
       "      <th>stats.killPlace</th>\n",
       "      <th>stats.killStreaks</th>\n",
       "      <th>stats.kills</th>\n",
       "      <th>stats.longestKill</th>\n",
       "      <th>stats.revives</th>\n",
       "      <th>stats.rideDistance</th>\n",
       "      <th>stats.roadKills</th>\n",
       "      <th>stats.swimDistance</th>\n",
       "      <th>stats.teamKills</th>\n",
       "      <th>stats.timeSurvived</th>\n",
       "      <th>stats.vehicleDestroys</th>\n",
       "      <th>stats.walkDistance</th>\n",
       "      <th>stats.weaponsAcquired</th>\n",
       "    </tr>\n",
       "  </thead>\n",
       "  <tbody>\n",
       "    <tr>\n",
       "      <th>286</th>\n",
       "      <td>2214</td>\n",
       "      <td>0.0</td>\n",
       "      <td>0.0</td>\n",
       "      <td>0.0</td>\n",
       "      <td>100.000000</td>\n",
       "      <td>0.0</td>\n",
       "      <td>0.0</td>\n",
       "      <td>37.0</td>\n",
       "      <td>1.0</td>\n",
       "      <td>1.0</td>\n",
       "      <td>0.00000</td>\n",
       "      <td>0.0</td>\n",
       "      <td>0.0000</td>\n",
       "      <td>0.0</td>\n",
       "      <td>0.0</td>\n",
       "      <td>0.0</td>\n",
       "      <td>1028.0</td>\n",
       "      <td>0.0</td>\n",
       "      <td>268.854000</td>\n",
       "      <td>0.0</td>\n",
       "    </tr>\n",
       "    <tr>\n",
       "      <th>287</th>\n",
       "      <td>2214</td>\n",
       "      <td>0.0</td>\n",
       "      <td>0.0</td>\n",
       "      <td>0.0</td>\n",
       "      <td>0.000000</td>\n",
       "      <td>0.0</td>\n",
       "      <td>0.0</td>\n",
       "      <td>90.0</td>\n",
       "      <td>0.0</td>\n",
       "      <td>0.0</td>\n",
       "      <td>0.00000</td>\n",
       "      <td>0.0</td>\n",
       "      <td>0.0000</td>\n",
       "      <td>0.0</td>\n",
       "      <td>0.0</td>\n",
       "      <td>0.0</td>\n",
       "      <td>789.0</td>\n",
       "      <td>0.0</td>\n",
       "      <td>28.123253</td>\n",
       "      <td>0.0</td>\n",
       "    </tr>\n",
       "    <tr>\n",
       "      <th>288</th>\n",
       "      <td>2214</td>\n",
       "      <td>0.0</td>\n",
       "      <td>0.0</td>\n",
       "      <td>4.0</td>\n",
       "      <td>427.098080</td>\n",
       "      <td>1.0</td>\n",
       "      <td>0.0</td>\n",
       "      <td>4.0</td>\n",
       "      <td>1.0</td>\n",
       "      <td>4.0</td>\n",
       "      <td>191.64577</td>\n",
       "      <td>0.0</td>\n",
       "      <td>2323.3994</td>\n",
       "      <td>0.0</td>\n",
       "      <td>0.0</td>\n",
       "      <td>0.0</td>\n",
       "      <td>1229.0</td>\n",
       "      <td>0.0</td>\n",
       "      <td>1692.429000</td>\n",
       "      <td>4.0</td>\n",
       "    </tr>\n",
       "    <tr>\n",
       "      <th>289</th>\n",
       "      <td>2214</td>\n",
       "      <td>0.0</td>\n",
       "      <td>0.0</td>\n",
       "      <td>4.0</td>\n",
       "      <td>199.413650</td>\n",
       "      <td>0.0</td>\n",
       "      <td>0.0</td>\n",
       "      <td>28.0</td>\n",
       "      <td>1.0</td>\n",
       "      <td>1.0</td>\n",
       "      <td>0.00000</td>\n",
       "      <td>0.0</td>\n",
       "      <td>0.0000</td>\n",
       "      <td>0.0</td>\n",
       "      <td>0.0</td>\n",
       "      <td>0.0</td>\n",
       "      <td>1647.0</td>\n",
       "      <td>0.0</td>\n",
       "      <td>1688.476400</td>\n",
       "      <td>0.0</td>\n",
       "    </tr>\n",
       "    <tr>\n",
       "      <th>290</th>\n",
       "      <td>2214</td>\n",
       "      <td>0.0</td>\n",
       "      <td>0.0</td>\n",
       "      <td>0.0</td>\n",
       "      <td>25.199999</td>\n",
       "      <td>0.0</td>\n",
       "      <td>0.0</td>\n",
       "      <td>44.0</td>\n",
       "      <td>0.0</td>\n",
       "      <td>0.0</td>\n",
       "      <td>0.00000</td>\n",
       "      <td>0.0</td>\n",
       "      <td>4562.7593</td>\n",
       "      <td>0.0</td>\n",
       "      <td>0.0</td>\n",
       "      <td>0.0</td>\n",
       "      <td>1629.0</td>\n",
       "      <td>0.0</td>\n",
       "      <td>1043.243900</td>\n",
       "      <td>13.0</td>\n",
       "    </tr>\n",
       "  </tbody>\n",
       "</table>\n",
       "</div>"
      ],
      "text/plain": [
       "     gameDuration  stats.DBNOs  stats.assists  stats.boosts  \\\n",
       "286          2214          0.0            0.0           0.0   \n",
       "287          2214          0.0            0.0           0.0   \n",
       "288          2214          0.0            0.0           4.0   \n",
       "289          2214          0.0            0.0           4.0   \n",
       "290          2214          0.0            0.0           0.0   \n",
       "\n",
       "     stats.damageDealt  stats.headshotKills  stats.heals  stats.killPlace  \\\n",
       "286         100.000000                  0.0          0.0             37.0   \n",
       "287           0.000000                  0.0          0.0             90.0   \n",
       "288         427.098080                  1.0          0.0              4.0   \n",
       "289         199.413650                  0.0          0.0             28.0   \n",
       "290          25.199999                  0.0          0.0             44.0   \n",
       "\n",
       "     stats.killStreaks  stats.kills  stats.longestKill  stats.revives  \\\n",
       "286                1.0          1.0            0.00000            0.0   \n",
       "287                0.0          0.0            0.00000            0.0   \n",
       "288                1.0          4.0          191.64577            0.0   \n",
       "289                1.0          1.0            0.00000            0.0   \n",
       "290                0.0          0.0            0.00000            0.0   \n",
       "\n",
       "     stats.rideDistance  stats.roadKills  stats.swimDistance  stats.teamKills  \\\n",
       "286              0.0000              0.0                 0.0              0.0   \n",
       "287              0.0000              0.0                 0.0              0.0   \n",
       "288           2323.3994              0.0                 0.0              0.0   \n",
       "289              0.0000              0.0                 0.0              0.0   \n",
       "290           4562.7593              0.0                 0.0              0.0   \n",
       "\n",
       "     stats.timeSurvived  stats.vehicleDestroys  stats.walkDistance  \\\n",
       "286              1028.0                    0.0          268.854000   \n",
       "287               789.0                    0.0           28.123253   \n",
       "288              1229.0                    0.0         1692.429000   \n",
       "289              1647.0                    0.0         1688.476400   \n",
       "290              1629.0                    0.0         1043.243900   \n",
       "\n",
       "     stats.weaponsAcquired  \n",
       "286                    0.0  \n",
       "287                    0.0  \n",
       "288                    4.0  \n",
       "289                    0.0  \n",
       "290                   13.0  "
      ]
     },
     "execution_count": 3,
     "metadata": {},
     "output_type": "execute_result"
    }
   ],
   "source": [
    "y = df3[\"top_five\"]\n",
    "target_names = [\"UnRanked\", \"Top5\"]\n",
    "data = df3.drop([\"top_five\", \"stats.winPlace\"], axis=1)\n",
    "data.head()"
   ]
  },
  {
   "cell_type": "code",
   "execution_count": 4,
   "metadata": {},
   "outputs": [],
   "source": [
    "from sklearn.model_selection import train_test_split\n",
    "X_train, X_test, y_train, y_test = train_test_split(data, y, random_state=42)"
   ]
  },
  {
   "cell_type": "code",
   "execution_count": 5,
   "metadata": {},
   "outputs": [],
   "source": [
    "from sklearn.svm import SVC \n",
    "model = SVC(kernel='linear')\n",
    "from sklearn.model_selection import GridSearchCV\n",
    "param_grid = {'C': [1, 5, 10],\n",
    "              'gamma': [0.0001, 0.001, 0.01]}\n",
    "grid = GridSearchCV(model, param_grid, verbose=3)"
   ]
  },
  {
   "cell_type": "code",
   "execution_count": null,
   "metadata": {},
   "outputs": [
    {
     "name": "stdout",
     "output_type": "stream",
     "text": [
      "Fitting 5 folds for each of 9 candidates, totalling 45 fits\n",
      "[CV] C=1, gamma=0.0001 ...............................................\n"
     ]
    },
    {
     "name": "stderr",
     "output_type": "stream",
     "text": [
      "[Parallel(n_jobs=1)]: Using backend SequentialBackend with 1 concurrent workers.\n"
     ]
    }
   ],
   "source": [
    "grid.fit(X_train, y_train)"
   ]
  },
  {
   "cell_type": "code",
   "execution_count": null,
   "metadata": {},
   "outputs": [],
   "source": [
    "print(grid.best_params_)"
   ]
  },
  {
   "cell_type": "code",
   "execution_count": null,
   "metadata": {},
   "outputs": [],
   "source": [
    "predictions = grid.predict(X_test)"
   ]
  },
  {
   "cell_type": "code",
   "execution_count": null,
   "metadata": {},
   "outputs": [],
   "source": [
    "print('Test Acc: %.3f' % grid.score(X_test, y_test))"
   ]
  },
  {
   "cell_type": "code",
   "execution_count": null,
   "metadata": {},
   "outputs": [],
   "source": [
    "from sklearn.metrics import classification_report\n",
    "print(classification_report(y_test, predictions,\n",
    "                            target_names=[\"Top5\", \"Unranked\"]))"
   ]
  },
  {
   "cell_type": "code",
   "execution_count": null,
   "metadata": {},
   "outputs": [],
   "source": [
    "score_df = pd.DataFrame(columns=[\"Algorithm\",\"Accuracy\"])\n",
    "score_df = score_df.append(pd.Series([\"Grid Search\", grid.score(X_test, y_test), index=[\"Algorithm\", \"Accuracy\"]), ignore_index=True)\n",
    "score_df.to_csv('score2.csv', mode='a', header=False)\n",
    "score_df                                    s\n",
    "                                      "
   ]
  }
 ],
 "metadata": {
  "kernelspec": {
   "display_name": "Python 3",
   "language": "python",
   "name": "python3"
  },
  "language_info": {
   "codemirror_mode": {
    "name": "ipython",
    "version": 3
   },
   "file_extension": ".py",
   "mimetype": "text/x-python",
   "name": "python",
   "nbconvert_exporter": "python",
   "pygments_lexer": "ipython3",
   "version": "3.8.5"
  }
 },
 "nbformat": 4,
 "nbformat_minor": 4
}
